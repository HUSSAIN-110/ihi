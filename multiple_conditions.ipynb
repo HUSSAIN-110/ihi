{
  "nbformat": 4,
  "nbformat_minor": 0,
  "metadata": {
    "colab": {
      "name": "multiple conditions",
      "provenance": []
    },
    "kernelspec": {
      "name": "python3",
      "display_name": "Python 3"
    },
    "language_info": {
      "name": "python"
    }
  },
  "cells": [
    {
      "cell_type": "code",
      "execution_count": 11,
      "metadata": {
        "colab": {
          "base_uri": "https://localhost:8080/"
        },
        "id": "1WW3UBqgUZ3I",
        "outputId": "9e558038-cd61-46b5-cfce-cb947c87bccd"
      },
      "outputs": [
        {
          "output_type": "stream",
          "name": "stdout",
          "text": [
            "try to recruit him\n"
          ]
        }
      ],
      "source": [
        "weight = 212\n",
        "time = 1\n",
        "age =9 \n",
        "height = 20\n",
        "if weight > 21 and time < 5 and age > 8 and height < 21:\n",
        " print (\"try to recruit him\")"
      ]
    },
    {
      "cell_type": "code",
      "source": [
        ""
      ],
      "metadata": {
        "id": "VwyaRVzHVnhZ"
      },
      "execution_count": null,
      "outputs": []
    }
  ]
}