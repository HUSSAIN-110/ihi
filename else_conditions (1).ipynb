{
  "nbformat": 4,
  "nbformat_minor": 0,
  "metadata": {
    "colab": {
      "name": "else conditions",
      "provenance": []
    },
    "kernelspec": {
      "name": "python3",
      "display_name": "Python 3"
    },
    "language_info": {
      "name": "python"
    }
  },
  "cells": [
    {
      "cell_type": "code",
      "execution_count": 11,
      "metadata": {
        "colab": {
          "base_uri": "https://localhost:8080/"
        },
        "id": "0NafXuZ9Lxni",
        "outputId": "54ba1570-9ae5-4d0d-8691-9adc8f43c1d7"
      },
      "outputs": [
        {
          "output_type": "stream",
          "name": "stdout",
          "text": [
            "even\n"
          ]
        }
      ],
      "source": [
        "num = 10\n",
        "if (num % 2) == 0:\n",
        "  print(\"even\")\n",
        "else:\n",
        "   print(\"odd\")"
      ]
    }
  ]
}