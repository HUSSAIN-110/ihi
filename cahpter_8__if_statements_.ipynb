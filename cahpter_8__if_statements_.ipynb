{
  "nbformat": 4,
  "nbformat_minor": 0,
  "metadata": {
    "colab": {
      "name": "cahpter 8 \"if statements\"",
      "provenance": []
    },
    "kernelspec": {
      "name": "python3",
      "display_name": "Python 3"
    },
    "language_info": {
      "name": "python"
    }
  },
  "cells": [
    {
      "cell_type": "code",
      "execution_count": 6,
      "metadata": {
        "colab": {
          "base_uri": "https://localhost:8080/"
        },
        "id": "rRiQTHqhOYVR",
        "outputId": "f4531522-9d5c-400d-f999-e502dcd180e7"
      },
      "outputs": [
        {
          "output_type": "stream",
          "name": "stdout",
          "text": [
            "my name is hussain\n"
          ]
        }
      ],
      "source": [
        "name = \"hussain\"\n",
        "if name == \"hussain\" :\n",
        " print (\"my name is\", name)\n"
      ]
    }
  ]
}